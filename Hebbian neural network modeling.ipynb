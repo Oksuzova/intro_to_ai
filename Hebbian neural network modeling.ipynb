{
 "cells": [
  {
   "metadata": {},
   "cell_type": "markdown",
   "source": [
    "### Hebb's Rule\n",
    "Hebb's rule is a principle of biological learning which states: \"Neurons that fire together, wire together.\" In mathematical terms:\n",
    "\n",
    "$$\n",
    "\\Delta W_{ij} = x_i \\cdot y_j\n",
    "$$\n",
    "\n",
    "where:\n",
    "\n",
    "- $ W_{ij} $ is the weight between the input neuron $ i $ and the output neuron $ j $,\n",
    "- $ x_i $ is the activation of the input neuron,\n",
    "- $ y_j $ is the activation of the output neuron.\n",
    "\n",
    "Here, the weights are updated as the outer product of the input vector and the target vector:\n",
    "\n",
    "$$\n",
    "W = W + \\text{outer}(y, x)\n",
    "$$\n",
    "\n",
    "As a result, the network weights form a matrix that associates the input data with the corresponding target outputs.\n"
   ],
   "id": "2f20e0fec6e000da"
  },
  {
   "metadata": {
    "ExecuteTime": {
     "end_time": "2025-01-05T13:27:17.840107Z",
     "start_time": "2025-01-05T13:27:17.833958Z"
    }
   },
   "cell_type": "code",
   "source": [
    "from PIL import Image\n",
    "import numpy as np\n",
    "import matplotlib.pyplot as plt"
   ],
   "id": "f9c327e90710583d",
   "outputs": [],
   "execution_count": 7
  },
  {
   "metadata": {
    "ExecuteTime": {
     "end_time": "2025-01-05T13:27:18.985237Z",
     "start_time": "2025-01-05T13:27:18.980204Z"
    }
   },
   "cell_type": "code",
   "source": [
    "# Define the Hebbian network class\n",
    "class HebbNetwork:\n",
    "    def __init__(self, input_size, output_size):\n",
    "        self.weights = np.zeros((output_size, input_size))  # Initialize weights to zero\n",
    "\n",
    "    def train(self, inputs, targets):\n",
    "        \"\"\"\n",
    "        Train the network using Hebbian learning rule.\n",
    "        :param inputs: A list of input vectors (binary flattened arrays).\n",
    "        :param targets: A list of target outputs (one-hot vectors).\n",
    "        \"\"\"\n",
    "        for x, y in zip(inputs, targets):\n",
    "            self.weights += np.outer(y, x)  # Update weights using Hebbian rule\n",
    "\n",
    "    def predict(self, input_vector):\n",
    "        \"\"\"\n",
    "        Predict the output for a given input.\n",
    "        :param input_vector: Binary flattened array.\n",
    "        :return: Predicted output (one-hot vector).\n",
    "        \"\"\"\n",
    "        output = np.dot(self.weights, input_vector)  # Calculate weighted sum\n",
    "        return (output == output.max()).astype(int)  # Return one-hot encoding of the max activation"
   ],
   "id": "48bc696dd3d0fe06",
   "outputs": [],
   "execution_count": 8
  },
  {
   "metadata": {
    "ExecuteTime": {
     "end_time": "2025-01-05T13:27:20.293088Z",
     "start_time": "2025-01-05T13:27:20.288303Z"
    }
   },
   "cell_type": "code",
   "source": [
    "# Function to preprocess image (convert to binary matrix)\n",
    "def preprocess_image(file_path, threshold=128):\n",
    "    img = Image.open(file_path).convert(\"L\")  # Convert to grayscale\n",
    "    img_array = np.array(img)  # Convert to numpy array\n",
    "    binary_matrix = (img_array < threshold).astype(int)  # Binarize image\n",
    "    return binary_matrix"
   ],
   "id": "b75a47cd7871bdec",
   "outputs": [],
   "execution_count": 9
  },
  {
   "metadata": {
    "ExecuteTime": {
     "end_time": "2025-01-05T13:27:21.408334Z",
     "start_time": "2025-01-05T13:27:21.403564Z"
    }
   },
   "cell_type": "code",
   "source": [
    "# Function to recognize a letter from an input image\n",
    "def recognize_letter(network, image_path, threshold=128):\n",
    "    \"\"\"\n",
    "    Recognize a letter from an input image using the Hebb network.\n",
    "    :param network: Trained HebbNetwork instance.\n",
    "    :param image_path: Path to the input image.\n",
    "    :param threshold: Threshold for binarization.\n",
    "    :return: Recognized letter.\n",
    "    \"\"\"\n",
    "    # Preprocess the input image\n",
    "    img = Image.open(image_path).convert(\"L\")  # Convert to grayscale\n",
    "    img_array = np.array(img)  # Convert to numpy array\n",
    "    binary_matrix = (img_array < threshold).astype(int)  # Binarize the image\n",
    "\n",
    "    # Flatten the binary matrix and predict using the network\n",
    "    input_vector = binary_matrix.flatten()\n",
    "    prediction = network.predict(input_vector)\n",
    "\n",
    "    # Map prediction to the corresponding letter\n",
    "    recognized_letter = list(letters.keys())[np.argmax(prediction)]\n",
    "    return recognized_letter"
   ],
   "id": "6a0c2d0bcc86dc83",
   "outputs": [],
   "execution_count": 10
  },
  {
   "metadata": {
    "ExecuteTime": {
     "end_time": "2025-01-05T13:27:22.605503Z",
     "start_time": "2025-01-05T13:27:22.600904Z"
    }
   },
   "cell_type": "code",
   "source": [
    "# Paths to letter images\n",
    "files = {\n",
    "    \"T\": \"letter_T.png\",\n",
    "    \"A\": \"letter_A.png\",\n",
    "    \"N\": \"letter_N.png\",\n",
    "    \"Y\": \"letter_Y.png\"\n",
    "}"
   ],
   "id": "3d8d2b24dfd6f466",
   "outputs": [],
   "execution_count": 11
  },
  {
   "metadata": {
    "ExecuteTime": {
     "end_time": "2025-01-05T13:27:23.948959Z",
     "start_time": "2025-01-05T13:27:23.895722Z"
    }
   },
   "cell_type": "code",
   "source": [
    "# Preprocess all images\n",
    "letters = {name: preprocess_image(path) for name, path in files.items()}\n",
    "\n",
    "# Flatten the letter matrices and prepare inputs and targets\n",
    "input_size = letters[\"A\"].size  # Number of pixels in the flattened matrix\n",
    "output_size = len(letters)  # Number of letters to recognize\n",
    "\n",
    "inputs = [matrix.flatten() for matrix in letters.values()]\n",
    "targets = np.eye(output_size)  # Create one-hot encoded target vectors\n",
    "\n",
    "# Initialize and train the Hebb network\n",
    "network = HebbNetwork(input_size=input_size, output_size=output_size)\n",
    "network.train(inputs, targets)\n",
    "\n",
    "# Test the recognition function with a new image\n",
    "test_image_path = \"letter_T.png\"  # Example test image\n",
    "recognized_letter = recognize_letter(network, test_image_path)\n",
    "print(f\"Recognized Letter: {recognized_letter}\")"
   ],
   "id": "42f6ef861a208c20",
   "outputs": [
    {
     "name": "stdout",
     "output_type": "stream",
     "text": [
      "Recognized Letter: T\n"
     ]
    }
   ],
   "execution_count": 12
  },
  {
   "metadata": {
    "ExecuteTime": {
     "end_time": "2025-01-05T13:28:32.064026Z",
     "start_time": "2025-01-05T13:28:32.053987Z"
    }
   },
   "cell_type": "code",
   "source": [
    "test_image_path = \"letter_A.png\"  # Example test image\n",
    "recognized_letter = recognize_letter(network, test_image_path)\n",
    "print(f\"Recognized Letter: {recognized_letter}\")"
   ],
   "id": "6b241a9e89ea42d0",
   "outputs": [
    {
     "name": "stdout",
     "output_type": "stream",
     "text": [
      "Recognized Letter: A\n"
     ]
    }
   ],
   "execution_count": 14
  },
  {
   "metadata": {
    "ExecuteTime": {
     "end_time": "2025-01-05T13:29:35.719988Z",
     "start_time": "2025-01-05T13:29:35.709457Z"
    }
   },
   "cell_type": "code",
   "source": [
    "test_image_path = \"letter_N.png\"  # Example test image\n",
    "recognized_letter = recognize_letter(network, test_image_path)\n",
    "print(f\"Recognized Letter: {recognized_letter}\")"
   ],
   "id": "997cd7ae352c2812",
   "outputs": [
    {
     "name": "stdout",
     "output_type": "stream",
     "text": [
      "Recognized Letter: N\n"
     ]
    }
   ],
   "execution_count": 15
  },
  {
   "metadata": {
    "ExecuteTime": {
     "end_time": "2025-01-05T13:29:40.105032Z",
     "start_time": "2025-01-05T13:29:40.094523Z"
    }
   },
   "cell_type": "code",
   "source": [
    "test_image_path = \"letter_Y.png\"  # Example test image\n",
    "recognized_letter = recognize_letter(network, test_image_path)\n",
    "print(f\"Recognized Letter: {recognized_letter}\")"
   ],
   "id": "d6f8d479756582cd",
   "outputs": [
    {
     "name": "stdout",
     "output_type": "stream",
     "text": [
      "Recognized Letter: Y\n"
     ]
    }
   ],
   "execution_count": 16
  },
  {
   "metadata": {},
   "cell_type": "code",
   "outputs": [],
   "execution_count": null,
   "source": "",
   "id": "dc95b985eed31479"
  }
 ],
 "metadata": {
  "kernelspec": {
   "display_name": "Python 3",
   "language": "python",
   "name": "python3"
  },
  "language_info": {
   "codemirror_mode": {
    "name": "ipython",
    "version": 2
   },
   "file_extension": ".py",
   "mimetype": "text/x-python",
   "name": "python",
   "nbconvert_exporter": "python",
   "pygments_lexer": "ipython2",
   "version": "2.7.6"
  }
 },
 "nbformat": 4,
 "nbformat_minor": 5
}
